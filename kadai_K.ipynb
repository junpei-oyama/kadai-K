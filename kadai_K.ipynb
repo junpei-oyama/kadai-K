{
 "cells": [
  {
   "cell_type": "markdown",
   "metadata": {},
   "source": [
    "# diabetesデータ分析の一連の流れ"
   ]
  },
  {
   "cell_type": "markdown",
   "metadata": {},
   "source": [
    "## 目的"
   ]
  },
  {
   "cell_type": "markdown",
   "metadata": {},
   "source": [
    "- 糖尿病患者データから一年後の糖尿病進行度を予測する。\n",
    "- データの概要\n",
    "    - データ数(患者数)：442\n",
    "    - age: 年齢\n",
    "    - sex: 性別\n",
    "    - bmi: 肥満度数\n",
    "    - bp(blood pressure): 平均血圧\n",
    "    - S1: 総コレステロール\n",
    "    - S2: 低密度コレステロール（悪玉）\n",
    "    - S3: 高密度コレステロール（善玉）\n",
    "    - S4: コレステロール？\n",
    "    - S5: 中性脂肪\n",
    "    - S6: 血糖値\n",
    "    - Target: 1年後の糖尿病進行度"
   ]
  },
  {
   "cell_type": "markdown",
   "metadata": {},
   "source": [
    "## 実装"
   ]
  },
  {
   "cell_type": "code",
   "execution_count": 1,
   "metadata": {
    "ExecuteTime": {
     "end_time": "2019-10-03T06:22:24.695636Z",
     "start_time": "2019-10-03T06:22:23.169756Z"
    }
   },
   "outputs": [],
   "source": [
    "import warnings\n",
    "\n",
    "import matplotlib.pyplot as plt\n",
    "import numpy as np\n",
    "import pandas as pd\n",
    "import seaborn as sns\n",
    "\n",
    "warnings.filterwarnings('ignore')\n",
    "\n",
    "%matplotlib inline"
   ]
  },
  {
   "cell_type": "code",
   "execution_count": 2,
   "metadata": {
    "ExecuteTime": {
     "end_time": "2019-10-03T06:23:11.579942Z",
     "start_time": "2019-10-03T06:23:11.495454Z"
    }
   },
   "outputs": [],
   "source": [
    "# データの準備\n",
    "from sklearn.datasets import load_diabetes\n",
    "\n",
    "diabetes = load_diabetes()"
   ]
  },
  {
   "cell_type": "code",
   "execution_count": 33,
   "metadata": {
    "ExecuteTime": {
     "end_time": "2019-10-03T08:04:08.607272Z",
     "start_time": "2019-10-03T08:04:08.596304Z"
    },
    "scrolled": true
   },
   "outputs": [],
   "source": [
    "X = diabetes.data\n",
    "y = diabetes.target\n",
    "\n",
    "df = pd.DataFrame(X, columns=diabetes.feature_names)\n",
    "df['DP'] = y\n",
    "\n",
    "# DPとの相関が大きそうなBMI, S5, S6を選択\n",
    "df = df[['bmi', 's5', 's6']]"
   ]
  },
  {
   "cell_type": "code",
   "execution_count": 38,
   "metadata": {
    "ExecuteTime": {
     "end_time": "2019-10-03T08:06:16.437351Z",
     "start_time": "2019-10-03T08:06:16.398459Z"
    }
   },
   "outputs": [
    {
     "name": "stdout",
     "output_type": "stream",
     "text": [
      "R^2 Test: 0.4288779305059609\n",
      "R^2 Test: 0.4898213556337556\n",
      "R^2 Test: 0.44243003313799034\n",
      "平均スコア： 0.453709773092569\n"
     ]
    }
   ],
   "source": [
    "from sklearn.linear_model import LinearRegression\n",
    "from sklearn.model_selection import KFold, train_test_split\n",
    "\n",
    "# ホールドアウト\n",
    "\n",
    "# X_trainval, X_test, y_trainval, y_test = train_test_split(X, \n",
    "#                                                           y, \n",
    "#                                                           train_size=0.7, \n",
    "#                                                           random_state=0)\n",
    "\n",
    "\n",
    "# 交差検証\n",
    "\n",
    "kf = KFold(n_splits=3, shuffle=False, random_state=0)\n",
    "\n",
    "ave_test_score = 0\n",
    "for train_index, test_index in kf.split(df):\n",
    "    X_train , X_test = df.iloc[train_index], df.iloc[test_index]\n",
    "    y_train, y_test = y[train_index], y[test_index]\n",
    "\n",
    "    # 予測モデルの構築\n",
    "\n",
    "    linreg = LinearRegression()\n",
    "\n",
    "    # 学習（=未知のパラメータの最適化）\n",
    "    linreg.fit(X_train, y_train)\n",
    "\n",
    "    # 予測\n",
    "    y_pred = linreg.predict(X_test)\n",
    "    \n",
    "    train_score = linreg.score(X_train, y_train)\n",
    "    test_score = linreg.score(X_test, y_test)\n",
    "    \n",
    "    ave_test_score += test_score\n",
    "    \n",
    "    print(f'R^2 Test: {test_score}')\n",
    "\n",
    "ave_test_score /= kf.n_splits\n",
    "print(f'平均スコア： {ave_test_score}')"
   ]
  },
  {
   "cell_type": "markdown",
   "metadata": {},
   "source": [
    "終わり"
   ]
  }
 ],
 "metadata": {
  "kernelspec": {
   "display_name": "Python 3",
   "language": "python",
   "name": "python3"
  },
  "language_info": {
   "codemirror_mode": {
    "name": "ipython",
    "version": 3
   },
   "file_extension": ".py",
   "mimetype": "text/x-python",
   "name": "python",
   "nbconvert_exporter": "python",
   "pygments_lexer": "ipython3",
   "version": "3.7.3"
  },
  "toc": {
   "base_numbering": 1,
   "nav_menu": {},
   "number_sections": true,
   "sideBar": true,
   "skip_h1_title": false,
   "title_cell": "Table of Contents",
   "title_sidebar": "Contents",
   "toc_cell": false,
   "toc_position": {},
   "toc_section_display": true,
   "toc_window_display": false
  }
 },
 "nbformat": 4,
 "nbformat_minor": 2
}
